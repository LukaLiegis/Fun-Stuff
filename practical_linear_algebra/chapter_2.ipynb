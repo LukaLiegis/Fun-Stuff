{
 "cells": [
  {
   "metadata": {
    "ExecuteTime": {
     "end_time": "2024-06-25T17:02:57.627250Z",
     "start_time": "2024-06-25T17:02:57.551261Z"
    }
   },
   "cell_type": "code",
   "source": "import numpy as np",
   "id": "79bb7e1647fcefee",
   "outputs": [],
   "execution_count": 1
  },
  {
   "cell_type": "code",
   "id": "initial_id",
   "metadata": {
    "collapsed": true,
    "ExecuteTime": {
     "end_time": "2024-06-25T17:03:44.567133Z",
     "start_time": "2024-06-25T17:03:44.563812Z"
    }
   },
   "source": [
    "asList = [1, 2, 3]\n",
    "asArray = np.array(asList)\n",
    "rowVec = np.array([asList])\n",
    "colVec = np.array([ [1], [2], [3]])"
   ],
   "outputs": [],
   "execution_count": 2
  },
  {
   "metadata": {
    "ExecuteTime": {
     "end_time": "2024-06-25T17:05:54.375201Z",
     "start_time": "2024-06-25T17:05:54.371348Z"
    }
   },
   "cell_type": "code",
   "source": [
    "print(f\"asList: {np.shape(asList)}\")\n",
    "print(f\"asArray: {asArray.shape}\")\n",
    "print(f\"rowVec: {rowVec.shape}\")\n",
    "print(f\"colVec: {colVec.shape}\")"
   ],
   "id": "bdad147dd004dba1",
   "outputs": [
    {
     "name": "stdout",
     "output_type": "stream",
     "text": [
      "asList: (3,)\n",
      "asArray: (3,)\n",
      "rowVec: (1, 3)\n",
      "colVec: (3, 1)\n"
     ]
    }
   ],
   "execution_count": 8
  },
  {
   "metadata": {
    "ExecuteTime": {
     "end_time": "2024-06-25T17:12:15.520814Z",
     "start_time": "2024-06-25T17:12:15.518340Z"
    }
   },
   "cell_type": "code",
   "source": [
    "v = np.array([4, 5, 6])\n",
    "w = np.array([10, 20 , 30])\n",
    "u = np.array([0, 3, 6, 9])\n",
    "vPlusW = v + w\n",
    "#uPlusW = u + w"
   ],
   "id": "80636a0dd5565c74",
   "outputs": [],
   "execution_count": 11
  },
  {
   "metadata": {
    "ExecuteTime": {
     "end_time": "2024-06-25T17:13:00.727919Z",
     "start_time": "2024-06-25T17:13:00.720394Z"
    }
   },
   "cell_type": "code",
   "source": [
    "v = np.array([[4, 5, 6]])\n",
    "w = np.array([[10, 20, 30]]).T\n",
    "v + w"
   ],
   "id": "9789bf108c36f284",
   "outputs": [
    {
     "data": {
      "text/plain": [
       "array([[14, 15, 16],\n",
       "       [24, 25, 26],\n",
       "       [34, 35, 36]])"
      ]
     },
     "execution_count": 12,
     "metadata": {},
     "output_type": "execute_result"
    }
   ],
   "execution_count": 12
  },
  {
   "metadata": {},
   "cell_type": "code",
   "outputs": [],
   "execution_count": null,
   "source": "",
   "id": "cfd411812939c832"
  }
 ],
 "metadata": {
  "kernelspec": {
   "display_name": "Python 3",
   "language": "python",
   "name": "python3"
  },
  "language_info": {
   "codemirror_mode": {
    "name": "ipython",
    "version": 2
   },
   "file_extension": ".py",
   "mimetype": "text/x-python",
   "name": "python",
   "nbconvert_exporter": "python",
   "pygments_lexer": "ipython2",
   "version": "2.7.6"
  }
 },
 "nbformat": 4,
 "nbformat_minor": 5
}
